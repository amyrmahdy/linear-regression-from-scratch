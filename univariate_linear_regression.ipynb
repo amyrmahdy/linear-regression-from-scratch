{
 "cells": [
  {
   "cell_type": "code",
   "execution_count": null,
   "metadata": {},
   "outputs": [],
   "source": [
    "# Compare Dummy version Vs Satisfying version\n",
    "import numpy as np\n",
    "import pandas as pd\n",
    "import matplotlib.pyplot as plt"
   ]
  },
  {
   "cell_type": "code",
   "execution_count": 22,
   "metadata": {},
   "outputs": [],
   "source": [
    "df = pd.read_csv(\"housing.csv\")"
   ]
  },
  {
   "cell_type": "code",
   "execution_count": 23,
   "metadata": {},
   "outputs": [
    {
     "data": {
      "text/html": [
       "<div>\n",
       "<style scoped>\n",
       "    .dataframe tbody tr th:only-of-type {\n",
       "        vertical-align: middle;\n",
       "    }\n",
       "\n",
       "    .dataframe tbody tr th {\n",
       "        vertical-align: top;\n",
       "    }\n",
       "\n",
       "    .dataframe thead th {\n",
       "        text-align: right;\n",
       "    }\n",
       "</style>\n",
       "<table border=\"1\" class=\"dataframe\">\n",
       "  <thead>\n",
       "    <tr style=\"text-align: right;\">\n",
       "      <th></th>\n",
       "      <th>longitude</th>\n",
       "      <th>latitude</th>\n",
       "      <th>housing_median_age</th>\n",
       "      <th>total_rooms</th>\n",
       "      <th>total_bedrooms</th>\n",
       "      <th>population</th>\n",
       "      <th>households</th>\n",
       "      <th>median_income</th>\n",
       "      <th>median_house_value</th>\n",
       "      <th>ocean_proximity</th>\n",
       "    </tr>\n",
       "  </thead>\n",
       "  <tbody>\n",
       "    <tr>\n",
       "      <th>0</th>\n",
       "      <td>-122.23</td>\n",
       "      <td>37.88</td>\n",
       "      <td>41.0</td>\n",
       "      <td>880.0</td>\n",
       "      <td>129.0</td>\n",
       "      <td>322.0</td>\n",
       "      <td>126.0</td>\n",
       "      <td>8.3252</td>\n",
       "      <td>452600.0</td>\n",
       "      <td>NEAR BAY</td>\n",
       "    </tr>\n",
       "    <tr>\n",
       "      <th>1</th>\n",
       "      <td>-122.22</td>\n",
       "      <td>37.86</td>\n",
       "      <td>21.0</td>\n",
       "      <td>7099.0</td>\n",
       "      <td>1106.0</td>\n",
       "      <td>2401.0</td>\n",
       "      <td>1138.0</td>\n",
       "      <td>8.3014</td>\n",
       "      <td>358500.0</td>\n",
       "      <td>NEAR BAY</td>\n",
       "    </tr>\n",
       "    <tr>\n",
       "      <th>2</th>\n",
       "      <td>-122.24</td>\n",
       "      <td>37.85</td>\n",
       "      <td>52.0</td>\n",
       "      <td>1467.0</td>\n",
       "      <td>190.0</td>\n",
       "      <td>496.0</td>\n",
       "      <td>177.0</td>\n",
       "      <td>7.2574</td>\n",
       "      <td>352100.0</td>\n",
       "      <td>NEAR BAY</td>\n",
       "    </tr>\n",
       "    <tr>\n",
       "      <th>3</th>\n",
       "      <td>-122.25</td>\n",
       "      <td>37.85</td>\n",
       "      <td>52.0</td>\n",
       "      <td>1274.0</td>\n",
       "      <td>235.0</td>\n",
       "      <td>558.0</td>\n",
       "      <td>219.0</td>\n",
       "      <td>5.6431</td>\n",
       "      <td>341300.0</td>\n",
       "      <td>NEAR BAY</td>\n",
       "    </tr>\n",
       "    <tr>\n",
       "      <th>4</th>\n",
       "      <td>-122.25</td>\n",
       "      <td>37.85</td>\n",
       "      <td>52.0</td>\n",
       "      <td>1627.0</td>\n",
       "      <td>280.0</td>\n",
       "      <td>565.0</td>\n",
       "      <td>259.0</td>\n",
       "      <td>3.8462</td>\n",
       "      <td>342200.0</td>\n",
       "      <td>NEAR BAY</td>\n",
       "    </tr>\n",
       "  </tbody>\n",
       "</table>\n",
       "</div>"
      ],
      "text/plain": [
       "   longitude  latitude  housing_median_age  total_rooms  total_bedrooms  \\\n",
       "0    -122.23     37.88                41.0        880.0           129.0   \n",
       "1    -122.22     37.86                21.0       7099.0          1106.0   \n",
       "2    -122.24     37.85                52.0       1467.0           190.0   \n",
       "3    -122.25     37.85                52.0       1274.0           235.0   \n",
       "4    -122.25     37.85                52.0       1627.0           280.0   \n",
       "\n",
       "   population  households  median_income  median_house_value ocean_proximity  \n",
       "0       322.0       126.0         8.3252            452600.0        NEAR BAY  \n",
       "1      2401.0      1138.0         8.3014            358500.0        NEAR BAY  \n",
       "2       496.0       177.0         7.2574            352100.0        NEAR BAY  \n",
       "3       558.0       219.0         5.6431            341300.0        NEAR BAY  \n",
       "4       565.0       259.0         3.8462            342200.0        NEAR BAY  "
      ]
     },
     "execution_count": 23,
     "metadata": {},
     "output_type": "execute_result"
    }
   ],
   "source": [
    "df.head()"
   ]
  },
  {
   "cell_type": "code",
   "execution_count": 24,
   "metadata": {},
   "outputs": [
    {
     "name": "stdout",
     "output_type": "stream",
     "text": [
      "income: [8.3252 8.3014 7.2574 5.6431 3.8462]\n",
      "price: [45.26 35.85 35.21 34.13 34.22]\n"
     ]
    }
   ],
   "source": [
    "# number of sample\n",
    "m = 10\n",
    "income_vs_price = df[[\"median_income\",\"median_house_value\"]].head(m).to_numpy()\n",
    "income = income_vs_price[:,0]\n",
    "price = income_vs_price[:,1]\n",
    "price = price / 10000\n",
    "print(f\"income: {income[:5]}\")\n",
    "print(f\"price: {price[:5]}\")"
   ]
  },
  {
   "cell_type": "code",
   "execution_count": 25,
   "metadata": {},
   "outputs": [
    {
     "data": {
      "image/png": "[encoded data removed]",
      "text/plain": [
       "<Figure size 432x288 with 1 Axes>"
      ]
     },
     "metadata": {
      "needs_background": "light"
     },
     "output_type": "display_data"
    }
   ],
   "source": [
    "plt.scatter(income, price)\n",
    "plt.title(\"Income vs Price\")\n",
    "plt.xlabel(\"income\")\n",
    "plt.ylabel(\"price\")\n",
    "plt.show()"
   ]
  },
  {
   "cell_type": "code",
   "execution_count": 26,
   "metadata": {},
   "outputs": [
    {
     "data": {
      "text/plain": [
       "array([8.3252, 8.3014, 7.2574, 5.6431, 3.8462, 4.0368, 3.6591, 3.12  ,\n",
       "       2.0804, 3.6912])"
      ]
     },
     "execution_count": 26,
     "metadata": {},
     "output_type": "execute_result"
    }
   ],
   "source": [
    "income"
   ]
  },
  {
   "cell_type": "code",
   "execution_count": 27,
   "metadata": {},
   "outputs": [
    {
     "name": "stdout",
     "output_type": "stream",
     "text": [
      "cost: 241.363650523, w: 1.114665615854, b: 5.02145192\n",
      "cost: 240.0298357788678, w: 1.2373091050094018, b: 5.0444547014899435\n",
      "cost: 226.0843827461052, w: 1.357018675845832, b: 5.0669768296640925\n",
      "cost: 212.29447617551887, w: 1.4727920724429409, b: 5.088830291785824\n",
      "cost: 199.36957949910104, w: 1.5846484885118581, b: 5.110016620688921\n",
      "cost: 187.30046841733207, w: 1.692708689042183, b: 5.130556206338057\n",
      "cost: 176.03384833560253, w: 1.797099932896895, b: 5.150470700669483\n",
      "cost: 165.5166257481181, w: 1.8979462672612635, b: 5.169781224369208\n",
      "cost: 155.698961745662, w: 1.995367654454947, b: 5.1885082041278725\n",
      "cost: 146.53430878662925, w: 2.089480008543995, b: 5.206671377468542\n",
      "cost: 137.97921434826725, w: 2.18039532182902, b: 5.224289814144054\n",
      "cost: 129.99311711021664, w: 2.2682217964839273, b: 5.241381938537978\n",
      "cost: 122.53815477385668, w: 2.353063972715722, b: 5.257965551485855\n",
      "cost: 115.5789844834703, w: 2.435022852687951, b: 5.274057851376351\n",
      "cost: 109.08261517868627, w: 2.5141960202605556, b: 5.289675454540167\n",
      "cost: 103.01825110076236, w: 2.5906777566783448, b: 5.304834414949105\n",
      "cost: 97.35714571214281, w: 2.6645591523442382, b: 5.3195502432484645\n",
      "cost: 92.07246533652949, w: 2.735928214809681, b: 5.333837925145308\n",
      "cost: 87.13916187265684, w: 2.804869973110249, b: 5.347711939174401\n",
      "cost: 82.53385397798766, w: 2.8714665785701317, b: 5.361186273862879\n",
      "cost: 78.23471615872094, w: 2.9357974021950035, b: 5.374274444314001\n",
      "cost: 74.22137524000836, w: 2.9979391287687434, b: 5.386989508229641\n",
      "cost: 70.47481372528217, w: 3.0579658477655585, b: 5.399344081390517\n",
      "cost: 66.97727958627807, w: 3.11594914118529, b: 5.4113503526125095\n",
      "cost: 63.712202055838794, w: 3.171958168416033, b: 5.423020098196803\n",
      "cost: 60.664113024060214, w: 3.226059748224677, b: 5.4343646958909755\n",
      "cost: 57.81857366491981, w: 3.2783184379725703, b: 5.445395138377592\n",
      "cost: 55.16210594534001, w: 3.3287966101502198, b: 5.456122046306289\n",
      "cost: 52.6821286917967, w: 3.3775545263217626, b: 5.466555680884813\n",
      "cost: 50.36689791120451, w: 3.4246504085668676, b: 5.476705956043915\n",
      "cost: 48.20545108298836, w: 3.470140508504771, b: 5.486582450190548\n",
      "cost: 46.187555158090035, w: 3.514079173982268, b: 5.496194417563291\n",
      "cost: 44.30365801824137, w: 3.5565189135047284, b: 5.505550799203452\n",
      "cost: 42.54484316525006, w: 3.597510458486517, b: 5.514660233554882\n",
      "cost: 40.902787425365474, w: 3.637102823394617, b: 5.523531066705035\n",
      "cost: 39.369721468094006, w: 3.6753433638567645, b: 5.532171362279439\n",
      "cost: 37.93839295218409, w: 3.7122778328029753, b: 5.5405889110013025\n",
      "cost: 36.60203212396298, w: 3.7479504347070294, b: 5.548791239927577\n",
      "cost: 35.354319704839654, w: 3.7824038779922113, b: 5.556785621372446\n",
      "cost: 34.189356915648204, w: 3.8156794256634385, b: 5.564579081528801\n",
      "cost: 33.10163749564062, w: 3.8478169442258037, b: 5.572178408797939\n",
      "cost: 32.086021583400715, w: 3.8788549509475234, b: 5.579590161837347\n",
      "cost: 31.137711335782903, w: 3.9088306595233275, b: 5.58682067733612\n",
      "cost: 30.252228169223013, w: 3.9377800241924206, b: 5.59387607752723\n",
      "cost: 29.425391515465254, w: 3.965737782363324, b: 5.600762277445546\n",
      "cost: 28.653298990932285, w: 3.9927374957961277, b: 5.607484991940223\n",
      "cost: 27.932307885671566, w: 4.018811590390972, b: 5.614049742449753\n",
      "cost: 27.25901788406994, w: 4.043991394629941, b: 5.620461863547735\n",
      "cost: 26.63025493537212, w: 4.068307176717927, b: 5.626726509267103\n",
      "cost: 26.04305619749213, w: 4.091788180466506, b: 5.632848659210316\n"
     ]
    }
   ],
   "source": [
    "# Dummy version\n",
    "w = 1\n",
    "b = 5\n",
    "cost = 0\n",
    "dj_dw = 0\n",
    "dj_db = 0\n",
    "alpha = 0.001\n",
    "epochs = 50\n",
    "\n",
    "for j in range(epochs):\n",
    "    y_hats = []\n",
    "    for i in range(m):\n",
    "        y_hat = income[i] * w + b\n",
    "        y_hats.append(y_hat)\n",
    "\n",
    "    for i in range(m):\n",
    "        cost += ((y_hats[i] - price[i]) ** 2)\n",
    "\n",
    "    cost = cost / (2 * m)\n",
    "\n",
    "\n",
    "    for i in range(m):\n",
    "        dj_dw += (y_hats[i] - price[i]) * income[i]\n",
    "        dj_db += (y_hats[i] - price[i])\n",
    "\n",
    "    dj_dw = dj_dw / m\n",
    "    dj_db = dj_db / m\n",
    "\n",
    "    w = w - (alpha * dj_dw)\n",
    "    b = b - (alpha * dj_db)\n",
    "    \n",
    "    print(f\"cost: {cost}, w: {w}, b: {b}\")"
   ]
  },
  {
   "cell_type": "code",
   "execution_count": 28,
   "metadata": {},
   "outputs": [
    {
     "name": "stdout",
     "output_type": "stream",
     "text": [
      "cost: 515.5143700000001, w: 0.1691362231, b: 0.031448000000000004\n",
      "cost: 486.36721404209175, w: 0.33312746720413533, b: 0.06201953389849456\n",
      "cost: 458.96152415153045, w: 0.49212983770403074, b: 0.09174118288824683\n",
      "cost: 433.19322821443546, w: 0.6462947036091943, b: 0.12063872166580222\n",
      "cost: 408.9644735992448, w: 0.7957688412532269, b: 0.1487371429013286\n",
      "cost: 386.183255472513, w: 0.9406945736398535, b: 0.17606068096601885\n",
      "cost: 364.763067327032, w: 1.081209905561066, b: 0.20263283493958223\n",
      "cost: 344.62257239483847, w: 1.217448654615657, b: 0.22847639091966712\n",
      "cost: 325.6852946969974, w: 1.3495405782525316, b: 0.25361344365439525\n",
      "cost: 307.8793285566461, w: 1.477611496959405, b: 0.27806541751854497\n",
      "cost: 291.13706547191, w: 1.6017834137138438, b: 0.3018530868532975\n",
      "cost: 275.39493731123946, w: 1.722174629810051, b: 0.32499659568885675\n",
      "cost: 260.59317485572376, w: 1.8388998571713602, b: 0.3475154768686665\n",
      "cost: 246.6755807712222, w: 1.952070327255063, b: 0.36942867059338114\n",
      "cost: 233.58931614797194, w: 2.061793896652966, b: 0.39075454240219526\n",
      "cost: 221.28469979686056, w: 2.168175149487927, b: 0.4115109006086031\n",
      "cost: 209.7150195400098, w: 2.2713154967035885, b: 0.4317150132071409\n",
      "cost: 198.83635477887492, w: 2.371313272341564, b: 0.4513836242671629\n",
      "cost: 188.60740966590075, w: 2.468263826897492, b: 0.4705329698292155\n",
      "cost: 178.98935624605247, w: 2.5622596178445756, b: 0.48917879331910025\n",
      "cost: 169.94568697240885, w: 2.6533902974105565, b: 0.5073363604942602\n",
      "cost: 161.44207603561208, w: 2.7417427976914555, b: 0.525020473936679\n",
      "cost: 153.4462489804458, w: 2.827401413182881, b: 0.542245487106052\n",
      "cost: 145.92786011429416, w: 2.9104478808072636, b: 0.5590253179665713\n",
      "cost: 138.8583772418265, w: 2.9909614575129893, b: 0.5753734622002612\n",
      "cost: 132.21097328808548, w: 3.0690189955191034, b: 0.5913030060194094\n",
      "cost: 125.96042439831703, w: 3.144695015277021, b: 0.606826638590257\n",
      "cost: 120.0830141274849, w: 3.2180617762185104, b: 0.6219566640797415\n",
      "cost: 114.55644335554196, w: 3.28918934535712, b: 0.636705013336732\n",
      "cost: 109.35974558628001, w: 3.3581456638081724, b: 0.6510832552188435\n",
      "cost: 104.47320730802815, w: 3.4249966112904793, b: 0.6651026075755859\n",
      "cost: 99.87829311369781, w: 3.4898060686710193, b: 0.6787739478982742\n",
      "cost: 95.55757529574922, w: 3.5526359786119466, b: 0.69210782364681\n",
      "cost: 91.49466764865267, w: 3.613546404377519, b: 0.7051144622631397\n",
      "cost: 87.6741632273989, w: 3.6725955868567643, b: 0.7178037808808941\n",
      "cost: 84.08157582564091, w: 3.72983999985603, b: 0.73018539574043\n",
      "cost: 80.70328495117607, w: 3.7853344037139043, b: 0.7422686313182089\n",
      "cost: 77.52648408976411, w: 3.8391318972894113, b: 0.7540625291791837\n",
      "cost: 74.53913206076507, w: 3.8912839683728357, b: 0.7655758565605948\n",
      "cost: 71.72990727982673, w: 3.9418405425670384, b: 0.776817114695326\n",
      "cost: 69.08816475489182, w: 3.9908500306856642, b: 0.7877945468827223\n",
      "cost: 66.60389565217916, w: 4.038359374713249, b: 0.7985161463145316\n",
      "cost: 64.26768927855295, w: 4.0844140923708485, b: 0.8089896636633997\n",
      "cost: 62.07069733587459, w: 4.129058320329514, b: 0.8192226144411242\n",
      "cost: 60.004600311559635, w: 4.172334856112618, b: 0.8292222861336512\n",
      "cost: 58.06157587767844, w: 4.214285198726841, b: 0.8389957451195904\n",
      "cost: 56.234269178566514, w: 4.2549495880603585, b: 0.8485498433788157\n",
      "cost: 54.51576489408526, w: 4.294367043085668, b: 0.8578912249975202\n",
      "cost: 52.89956097241809, w: 4.332575398903294, b: 0.8670263324759033\n",
      "cost: 51.37954393262803, w: 4.369611342661559, b: 0.8759614128444747\n"
     ]
    }
   ],
   "source": [
    "# Satisfying version\n",
    "w = 0\n",
    "b = 0\n",
    "cost = 0\n",
    "dj_dw = 0\n",
    "dj_db = 0\n",
    "alpha = 0.001\n",
    "epochs = 50\n",
    "history_cost = []\n",
    "\n",
    "for j in range(epochs):\n",
    "\n",
    "    y_hats = income * w + b\n",
    "\n",
    "    costs = ((y_hats - price) ** 2)\n",
    "    cost = sum(costs) / (2 * m)\n",
    "    history_cost.append(cost)\n",
    "\n",
    "    dj_dws = (y_hats - price) * income\n",
    "    dj_dbs = (y_hats - price)\n",
    "\n",
    "    dj_dw = sum(dj_dws) / m\n",
    "    dj_db = sum(dj_dbs) / m\n",
    "    \n",
    "    w = w - (alpha * dj_dw)\n",
    "    b = b - (alpha * dj_db)\n",
    "    \n",
    "    print(f\"cost: {cost}, w: {w}, b: {b}\")"
   ]
  },
  {
   "cell_type": "code",
   "execution_count": 30,
   "metadata": {},
   "outputs": [
    {
     "data": {
      "image/png": "[encoded data removed]",
      "text/plain": [
       "<Figure size 432x288 with 1 Axes>"
      ]
     },
     "metadata": {
      "needs_background": "light"
     },
     "output_type": "display_data"
    }
   ],
   "source": [
    "plt.plot(np.arange(epochs)+ 1, history_cost)\n",
    "plt.title(\"Learning Curve\")\n",
    "plt.xlabel(\"epoch\")\n",
    "plt.ylabel(\"cost\")\n",
    "plt.show()"
   ]
  },
  {
   "cell_type": "code",
   "execution_count": 31,
   "metadata": {},
   "outputs": [
    {
     "data": {
      "image/png": "[encoded data removed]",
      "text/plain": [
       "<Figure size 432x288 with 1 Axes>"
      ]
     },
     "metadata": {
      "needs_background": "light"
     },
     "output_type": "display_data"
    }
   ],
   "source": [
    "plt.scatter(income, price)\n",
    "plt.scatter(income,y_hats, c = 'red')\n",
    "plt.title(\"Income vs Price\")\n",
    "plt.xlabel(\"income\")\n",
    "plt.ylabel(\"price\")\n",
    "plt.show()"
   ]
  }
 ],
 "metadata": {
  "kernelspec": {
   "display_name": "Python 3",
   "language": "python",
   "name": "python3"
  },
  "language_info": {
   "codemirror_mode": {
    "name": "ipython",
    "version": 3
   },
   "file_extension": ".py",
   "mimetype": "text/x-python",
   "name": "python",
   "nbconvert_exporter": "python",
   "pygments_lexer": "ipython3",
   "version": "3.10.12"
  }
 },
 "nbformat": 4,
 "nbformat_minor": 2
}
